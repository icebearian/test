{
  "nbformat": 4,
  "nbformat_minor": 0,
  "metadata": {
    "colab": {
      "name": "Untitled44.ipynb",
      "provenance": [],
      "collapsed_sections": [],
      "authorship_tag": "ABX9TyPU6AcX2daCqgc0n08gzQnh",
      "include_colab_link": true
    },
    "kernelspec": {
      "name": "python3",
      "display_name": "Python 3"
    }
  },
  "cells": [
    {
      "cell_type": "markdown",
      "metadata": {
        "id": "view-in-github",
        "colab_type": "text"
      },
      "source": [
        "<a href=\"https://colab.research.google.com/github/icebearian/test/blob/main/Untitled44.ipynb\" target=\"_parent\"><img src=\"https://colab.research.google.com/assets/colab-badge.svg\" alt=\"Open In Colab\"/></a>"
      ]
    },
    {
      "cell_type": "markdown",
      "metadata": {
        "id": "6KStxUesjzon"
      },
      "source": [
        "# **The Painter's Partition Problem**\r\n",
        "\r\n",
        "> Dilpreet wants to paint his dog- Buzo's home that has n boards with different lengths**[A1, A2,..., An]**. He hired k painters for this work and each painter takes 1 unit time to paint 1 unit of the board.The problem is to find the minimum time to get this job done under the constraints that any painter will only paint continuous sections of boards, say board {2, 3, 4} or only board {1} or nothing but not board {2, 4, 5}.\r\n",
        "\r\n",
        "**Input:**\r\n",
        "The first line consists of a single integer T, the number of test cases. For each test case, the first line contains an integer k denoting the number of painters and integer n denoting the number of boards. Next line contains n- space separated integers denoting the size of boards.\r\n",
        "\r\n",
        "**Output:**\r\n",
        "For each test case, the output is an integer displaying the minimum time for painting that house.\r\n",
        "\r\n",
        "\r\n",
        "| Constraint |\r\n",
        "---|\r\n",
        "1<=T<=100\r\n",
        "1<=k<=30\r\n",
        "1<=n<=50\r\n",
        "1<=A[i]<=500\r\n",
        "\r\n",
        "**Example:**\r\n",
        "\r\n",
        "|Input|Output|\r\n",
        "|---|--|\r\n",
        "|2| 20 60|\r\n",
        "|2 4|  |\r\n",
        "|10 10 10 10|  |\r\n",
        "|2 4|  |\r\n",
        "|10 20 30 40| |\r\n",
        "\r\n",
        "\r\n",
        "**Explanation:**\r\n",
        "1. Here we can divide the boards into 2 equal sized partitions, so each painter gets 20 units of the board and the total time taken is 20.\r\n",
        "2. Here we can divide first 3 boards for one painter and the last board for the second painter."
      ]
    },
    {
      "cell_type": "markdown",
      "metadata": {
        "id": "vYbAvtspp4Hn"
      },
      "source": [
        "# **Abstraction**\r\n",
        "\r\n",
        "> **Đề bài**:Cho $n$ bảng với độ dài $ [ l1,l2,...ln ]$ và $k$ người thợ. Mỗi thợ mất 1 phút để sơn 1 phần của bảng (Vd: độ dài = 4 thì mất 4 phút).<br>\r\n",
        "→ Tìm **thời gian tối thiểu** để sơn toàn bộ các bảng với điều kiện mỗi thợ phải sơn các bảng liền kề với nhau và các thợ bắt đầu cùng một thời gian.\r\n",
        "\r\n",
        ">**Abstract**: Cho một mảng $A$ gồm các số nguyên không âm và một số nguyên dương $k$, chia $A$ thành $k$ vùng sao cho tổng lớn nhất của các phần tử trong phân vùng là nhỏ nhất.\r\n",
        "\r\n",
        "**Giải thích ví dụ**:<br> $n = 4, k = 2, A = [10,20,30,40]$. Các trường hợp có thể chia là:<br>\r\n",
        "\r\n",
        "|Trường hợp|Thời gian để cả 2 hoàn thành|Thoả mãn yêu cầu|\r\n",
        "|---|---|---|\r\n",
        "|{10},{20,30,40}|90| |\r\n",
        "|{10,20},{30,40}|70| |\r\n",
        "|{10,20,30},{40}|60|YES|\r\n",
        "\r\n",
        "# **Decomposition**\r\n",
        "\r\n",
        "> - Với mỗi lần phân vùng, lấy giá trị lớn nhất trong các vùng được chia.<br>\r\n",
        "- Với các giá trị trên, chọn giá trị nhỏ nhất.\r\n",
        "\r\n",
        "# **Pattern Recognition**\r\n",
        "# *3 cách tiếp cận*\r\n",
        "> **Thuật toán tham lam (Brute Force)**<br>\r\n",
        "- Duyệt tất cả các phân vùng liền kề và tính tổng giá trị phân vùng lớn nhất của mỗi trường hợp, kết quả trả về là kết quả nhỏ nhất.\r\n",
        "- Độ phức tạp thời gian $O(N^{k}$) (cấp số nhân)\r\n",
        "→ Tính toán các giá trị giống nhau nhiều lần.\r\n",
        "\r\n",
        "\r\n",
        "\r\n",
        "> Ta nhận thấy bài toán có **2 tính chất**:<br>\r\n",
        "- Cấu trúc con tối ưu (Optimal Substructure) <br>\r\n",
        "\r\n",
        "(Giải thích)\r\n",
        "\r\n",
        "![img.png](https://media.geeksforgeeks.org/wp-content/uploads/paintersproblem.jpg)\r\n",
        "\r\n",
        "- Bài toán con chồng nhau (Overlapping subproblems)<br>\r\n",
        "```\r\n",
        "      T(4, 3)\r\n",
        "     /    /    \\ ..         \r\n",
        "T(1, 2)  T(2, 2) T(3, 2) \r\n",
        "          /..      /..     \r\n",
        "      T(1, 1)    T(1, 1) \r\n",
        "```\r\n",
        "Việc tính toán T(1,1) được lặp đi nhiều lần.\r\n",
        "\r\n",
        "> **Thuật toán quy hoạch động (Dynamic Programming)**<br>\r\n",
        "- Độ phức tạp thời gian $O(k*N^{3}$)\r\n",
        "\r\n",
        "> **Binary Search**:\r\n",
        "- Giới hạn phạm vi tìm kiếm\r\n",
        "- Phạm vi nhỏ dần sau mỗi lần duyệt\r\n",
        "- Độ phức tạp thời gian $ O(N * log (sum (arr[]))$\r\n",
        "\r\n",
        "# **Algorithm Design**\r\n",
        "\r\n"
      ]
    },
    {
      "cell_type": "code",
      "metadata": {
        "colab": {
          "base_uri": "https://localhost:8080/"
        },
        "id": "zEeW_2oSncHR",
        "outputId": "62a39e06-d0d6-452d-8db0-80f1db7ebf41"
      },
      "source": [
        "def numberOfPainters(arr, n, maxLen): \r\n",
        "    total = 0\r\n",
        "    numPainters = 1\r\n",
        "  \r\n",
        "    for i in arr: \r\n",
        "        total += i \r\n",
        "  \r\n",
        "        if (total > maxLen): \r\n",
        "  \r\n",
        "            # for next count \r\n",
        "            total = i \r\n",
        "            numPainters += 1\r\n",
        "  \r\n",
        "    return numPainters \r\n",
        "  \r\n",
        "def partition(arr,_sum, n, k): \r\n",
        "    lo = max(arr) \r\n",
        "    hi = _sum\r\n",
        "  \r\n",
        "    while (lo < hi): \r\n",
        "        mid = lo + (hi - lo) / 2\r\n",
        "        requiredPainters = numberOfPainters(arr, n, mid) \r\n",
        "        if (requiredPainters <= k): \r\n",
        "            hi = mid \r\n",
        "        else: \r\n",
        "            lo = mid + 1\r\n",
        "    return lo \r\n",
        "  \r\n",
        "# Driver code \r\n",
        "arr = [1, 2, 3, 4, 5, 6, 7, 8, 9] \r\n",
        "_sum = 0\r\n",
        "for i in arr:\r\n",
        "  _sum += i\r\n",
        "n = len(arr) \r\n",
        "k = 3\r\n",
        "print(int(partition(arr,_sum, n, k))) "
      ],
      "execution_count": 18,
      "outputs": [
        {
          "output_type": "stream",
          "text": [
            "17\n"
          ],
          "name": "stdout"
        }
      ]
    },
    {
      "cell_type": "markdown",
      "metadata": {
        "id": "eckvRBF_ad5r"
      },
      "source": [
        "# **Find length of the largest region in Boolean Matrix**\r\n",
        "\r\n",
        "> Consider a matrix with N rows and M columns, where each cell contains either a ‘0’ or a ‘1’ and any cell containing a 1 is called a filled cell. Two cells are said to be connected if they are adjacent to each other horizontally, vertically, or diagonally. If one or more filled cells are connected, they form a region. The task is to find the unit area of the largest region.\r\n",
        "\r\n",
        "**Input:**\r\n",
        "The first line of input will be the number of testcases T, then T testcases follow. The first line of each testcase contains 2 space separated integers n and m. Then in the next line are the n x m inputs of the matrix A separated by space.\r\n",
        "\r\n",
        "**Output:**\r\n",
        "The output in the expected output will be the length of the largest region formed.\r\n",
        "\r\n",
        "|Constraints|\r\n",
        "|--|\r\n",
        "1 <= T <= 100\r\n",
        "1 <= N, M <= 50\r\n",
        "0 <= A[][] <= 1\r\n",
        "\r\n",
        "**Example:**<br>\r\n",
        "\r\n",
        "|Input|Output|\r\n",
        "|---|---|\r\n",
        "|2|4 3|\r\n",
        "|3 3| |\r\n",
        "|1 1 0| | \r\n",
        "|0 0 1|  |\r\n",
        "|1 0 1| |\r\n",
        "|1 3| |\r\n",
        "|1 1 1| |\r\n",
        "\r\n",
        "# **Abstraction**\r\n",
        "> Tìm vùng có số lượng đảo lớn nhất trên ma trận 2 boolean chiều.\r\n",
        "\r\n",
        "# **Decomposition**\r\n",
        "\r\n",
        "> Tìm và kết nối các đảo thoả mãn điều kiện.<br>\r\n",
        "> Chọn vùng có số lượng đảo lớn nhất.\r\n",
        "\r\n",
        "# **Pattern Recognition**\r\n",
        "\r\n",
        "> **Graph Algorithm**\r\n",
        "\r\n",
        "# **Algorithm Design**\r\n",
        "> Độ phức tạp về thời gian : $O(row*col)$<br>\r\n",
        "> Độ phức tạp về không gian: $O(row*col)$\r\n",
        "\r\n",
        "> Idea:\r\n",
        "- A cell in 2D matrix can be connected to at most 8 neighbours.\r\n",
        "- So in DFS, make recursive calls for 8 neighbours of that cell.\r\n",
        "- Keep a visited Hash-map to keep track of all visited cells.\r\n",
        "- Also keep track of the visited 1’s in every DFS and update maximum length region.\r\n"
      ]
    },
    {
      "cell_type": "code",
      "metadata": {
        "colab": {
          "base_uri": "https://localhost:8080/"
        },
        "id": "Jy5kmoZXg6dw",
        "outputId": "d1d1dd88-1e2a-45d2-a9a3-b4603aa9d2b8"
      },
      "source": [
        "def isSafe(M, row, col, visited):\r\n",
        "    global ROW, COL\r\n",
        " \r\n",
        "    # row number is in range, column number is in\r\n",
        "    # range and value is 1 and not yet visited\r\n",
        "    return ((row >= 0) and (row < ROW) and\r\n",
        "            (col >= 0) and (col < COL) and\r\n",
        "            (M[row][col] and not visited[row][col]))\r\n",
        " \r\n",
        "# A utility function to do DFS for a 2D\r\n",
        "# boolean matrix. It only considers\r\n",
        "# the 8 neighbours as adjacent vertices\r\n",
        " \r\n",
        " \r\n",
        "def DFS(M, row, col, visited, count):\r\n",
        " \r\n",
        "    # These arrays are used to get row and column\r\n",
        "    # numbers of 8 neighbours of a given cell\r\n",
        "    rowNbr = [-1, -1, -1, 0, 0, 1, 1, 1]\r\n",
        "    colNbr = [-1, 0, 1, -1, 1, -1, 0, 1]\r\n",
        " \r\n",
        "    # Mark this cell as visited\r\n",
        "    visited[row][col] = True\r\n",
        " \r\n",
        "    # Recur for all connected neighbours\r\n",
        "    for k in range(8):\r\n",
        "        if (isSafe(M, row + rowNbr[k],\r\n",
        "                   col + colNbr[k], visited)):\r\n",
        " \r\n",
        "            # increment region length by one\r\n",
        "            count[0] += 1\r\n",
        "            DFS(M, row + rowNbr[k],\r\n",
        "                col + colNbr[k], visited, count)\r\n",
        " \r\n",
        "# The main function that returns largest\r\n",
        "# length region of a given boolean 2D matrix\r\n",
        " \r\n",
        " \r\n",
        "def largestRegion(M):\r\n",
        "    global ROW, COL\r\n",
        " \r\n",
        "    # Make a bool array to mark visited cells.\r\n",
        "    # Initially all cells are unvisited\r\n",
        "    visited = [[0] * COL for i in range(ROW)]\r\n",
        " \r\n",
        "    # Initialize result as 0 and travesle\r\n",
        "    # through the all cells of given matrix\r\n",
        "    result = -999999999999\r\n",
        "    for i in range(ROW):\r\n",
        "        for j in range(COL):\r\n",
        " \r\n",
        "            # If a cell with value 1 is not\r\n",
        "            if (M[i][j] and not visited[i][j]):\r\n",
        " \r\n",
        "                # visited yet, then new region found\r\n",
        "                count = [1]\r\n",
        "                DFS(M, i, j, visited, count)\r\n",
        " \r\n",
        "                # maximum region\r\n",
        "                result = max(result, count[0])\r\n",
        "    return result\r\n",
        " \r\n",
        " \r\n",
        "# Driver Code\r\n",
        "ROW = 4\r\n",
        "COL = 5\r\n",
        " \r\n",
        "M = [[0, 0, 1, 1, 0],\r\n",
        "     [1, 0, 1, 1, 0],\r\n",
        "     [0, 1, 0, 0, 0],\r\n",
        "     [0, 0, 0, 0, 1]]\r\n",
        " \r\n",
        "# Function call\r\n",
        "print(largestRegion(M))"
      ],
      "execution_count": 12,
      "outputs": [
        {
          "output_type": "stream",
          "text": [
            "6\n"
          ],
          "name": "stdout"
        }
      ]
    },
    {
      "cell_type": "markdown",
      "metadata": {
        "id": "P8iJwCaXmVuT"
      },
      "source": [
        "# **LOOK UP**\r\n",
        "> Xét một bảng có n hàng và n cột. Ô nằm ở hàng thứ i và cột thứ j sẽ chứa một giá trị chính bằng tích của i nhân j. Biết chỉ số của bảng bắt đầu từ 1, hãy đếm số lượng giá trị nguyên dương x xuất hiện trong bảng.\r\n",
        "\r\n",
        "**INPUT**\r\n",
        "> Dòng đầu tiên lần lượt chứa 2 giá trị n và x (1 ≤ n ≤ 105, 1 ≤ x ≤ 109) \r\n",
        "\r\n",
        "**OUTPUT**\r\n",
        "\r\n",
        "> Đếm số lần x xuất hiện trong bảng\r\n",
        "\r\n",
        "|INPUT|\tOUTPUT|\r\n",
        "|--|--|\r\n",
        "|10 5|2|\r\n",
        "|6 12|\t4\r\n",
        "|5 13|0|"
      ]
    },
    {
      "cell_type": "code",
      "metadata": {
        "colab": {
          "base_uri": "https://localhost:8080/"
        },
        "id": "xgWF1b38mrXs",
        "outputId": "062dc6fa-ed08-454e-c12a-554524d62b29"
      },
      "source": [
        "n, x = map(int, input().split())\r\n",
        "\r\n",
        "import math\r\n",
        "\r\n",
        "y = int(math.sqrt(x))\r\n",
        "ans = 0\r\n",
        "for i in range(y):\r\n",
        "    if (x % (i+1) == 0) & (x / (i+1) <= n):\r\n",
        "        ans = ans + 1\r\n",
        "\r\n",
        "ans = ans * 2\r\n",
        "if (y*y == x):\r\n",
        "    ans = ans - 1\r\n",
        "    \r\n",
        "ans = max(ans,  0)\r\n",
        "\r\n",
        "print(ans)"
      ],
      "execution_count": 13,
      "outputs": [
        {
          "output_type": "stream",
          "text": [
            "10 45\n",
            "2\n"
          ],
          "name": "stdout"
        }
      ]
    }
  ]
}