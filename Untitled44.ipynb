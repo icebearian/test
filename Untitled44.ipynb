{
  "nbformat": 4,
  "nbformat_minor": 0,
  "metadata": {
    "colab": {
      "name": "Untitled44.ipynb",
      "provenance": [],
      "authorship_tag": "ABX9TyNtHNwXRHAGk05Mk4LH0jio",
      "include_colab_link": true
    },
    "kernelspec": {
      "name": "python3",
      "display_name": "Python 3"
    }
  },
  "cells": [
    {
      "cell_type": "markdown",
      "metadata": {
        "id": "view-in-github",
        "colab_type": "text"
      },
      "source": [
        "<a href=\"https://colab.research.google.com/github/icebearian/test/blob/main/Untitled44.ipynb\" target=\"_parent\"><img src=\"https://colab.research.google.com/assets/colab-badge.svg\" alt=\"Open In Colab\"/></a>"
      ]
    },
    {
      "cell_type": "markdown",
      "metadata": {
        "id": "6KStxUesjzon"
      },
      "source": [
        "# **The Painter's Partition Problem**\r\n",
        "\r\n",
        "> Dilpreet wants to paint his dog- Buzo's home that has n boards with different lengths**[A1, A2,..., An]**. He hired k painters for this work and each painter takes 1 unit time to paint 1 unit of the board.The problem is to find the minimum time to get this job done under the constraints that any painter will only paint continuous sections of boards, say board {2, 3, 4} or only board {1} or nothing but not board {2, 4, 5}.\r\n",
        "\r\n",
        "**Input:**\r\n",
        "The first line consists of a single integer T, the number of test cases. For each test case, the first line contains an integer k denoting the number of painters and integer n denoting the number of boards. Next line contains n- space separated integers denoting the size of boards.\r\n",
        "\r\n",
        "**Output:**\r\n",
        "For each test case, the output is an integer displaying the minimum time for painting that house.\r\n",
        "\r\n",
        "\r\n",
        "| Constraint |\r\n",
        "---|\r\n",
        "1<=T<=100 <Số lượng testcase>\r\n",
        "1<=k<=30 <Số lượng hoạ sĩ>\r\n",
        "1<=n<=50 <Số lượng bảng>\r\n",
        "1<=A[i]<=500 <Kích thước/thời gian vẽ>\r\n",
        "\r\n",
        "**Example:**\r\n",
        "\r\n",
        "|Input|Output|\r\n",
        "|---|--|\r\n",
        "|2| 20 60|\r\n",
        "|2 4|  |\r\n",
        "|10 10 10 10|  |\r\n",
        "|2 4|  |\r\n",
        "|10 20 30 40| |\r\n",
        "\r\n",
        "\r\n",
        "**Explanation:**\r\n",
        "1. Here we can divide the boards into 2 equal sized partitions, so each painter gets 20 units of the board and the total time taken is 20.\r\n",
        "2. Here we can divide first 3 boards for one painter and the last board for the second painter."
      ]
    },
    {
      "cell_type": "markdown",
      "metadata": {
        "id": "vYbAvtspp4Hn"
      },
      "source": [
        "# **BINARY SEARCH**\r\n",
        "- Vẽ $n$ tấm bảng với diện tích của mỗi tấm là $A[0], A[1], A[2] , ... A[n-1]$ với số lượng hoạ sĩ để vẽ là $k$.\r\n",
        "- Mỗi hoạ sĩ mất $1$ phút để vẽ $1$ ô \r\n"
      ]
    },
    {
      "cell_type": "code",
      "metadata": {
        "colab": {
          "base_uri": "https://localhost:8080/"
        },
        "id": "rJ6-TkHGjh-G",
        "outputId": "208066a5-e911-48f6-a5fd-004ce55df720"
      },
      "source": [
        "def sum(arr, frm, to):  \r\n",
        "    total = 0; \r\n",
        "    for i in range(frm, to + 1): \r\n",
        "        total += arr[i] \r\n",
        "    return total \r\n",
        "      \r\n",
        "def partition(arr, n, k): \r\n",
        "    if k == 1:\r\n",
        "        return sum(arr, 0, n - 1) \r\n",
        "    if n == 1: \r\n",
        "        return arr[0] \r\n",
        "    best = 100000000\r\n",
        "    for i in range(1, n + 1): \r\n",
        "        best = min(best,  \r\n",
        "               max(partition(arr, i, k - 1),  \r\n",
        "                         sum(arr, i, n - 1))) \r\n",
        "    return best \r\n",
        "      \r\n",
        "\r\n",
        "arr = [10,20,30,40] \r\n",
        "n = len(arr) \r\n",
        "k = 2\r\n",
        "print(partition(arr, n, k)) "
      ],
      "execution_count": 7,
      "outputs": [
        {
          "output_type": "stream",
          "text": [
            "60\n"
          ],
          "name": "stdout"
        }
      ]
    }
  ]
}